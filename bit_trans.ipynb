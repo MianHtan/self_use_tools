{
 "cells": [
  {
   "cell_type": "code",
   "execution_count": null,
   "metadata": {},
   "outputs": [],
   "source": [
    "import cv2\n",
    "import numpy as np\n",
    "import os\n",
    "import matplotlib.pyplot as plt\n",
    "%matplotlib inline"
   ]
  },
  {
   "cell_type": "code",
   "execution_count": null,
   "metadata": {},
   "outputs": [],
   "source": [
    "source = \"./\"\n",
    "outpath = \"./\"\n",
    "\n",
    "data_dict = {}\n",
    "for folder in os.listdir(source):\n",
    "    if os.path.isdir(folder):\n",
    "        data_dict[folder] = []\n",
    "        for filefullname in os.listdir(folder):\n",
    "            filename = os.path.splitext(filefullname)\n",
    "            if filename[1] == \".tif\":\n",
    "                data_dict[folder].append(filename[0])"
   ]
  },
  {
   "cell_type": "code",
   "execution_count": null,
   "metadata": {},
   "outputs": [],
   "source": [
    "def clip(img):\n",
    "    rows, cols = img.shape\n",
    "    compress_data = np.zeros((rows, cols),dtype=\"uint8\")\n",
    "\n",
    "    cutmin = np.nanpercentile(img[:, :], 0)\n",
    "    cutmax = np.nanpercentile(img[:, :], 99)\n",
    "\n",
    "    data_band = img\n",
    "    # 进行截断,用data_band = np.clip(data_band,cutmin,cutmax)也可以\n",
    "    data_band[data_band<cutmin] = cutmin\n",
    "    data_band[data_band>cutmax] = cutmax\n",
    "    print(cutmin, cutmax)\n",
    "    # 进行缩放\n",
    "    compress_data[:, :] = np.around( (data_band[:,:] - cutmin) *255/(cutmax - cutmin) )\n",
    "    return compress_data\n"
   ]
  },
  {
   "cell_type": "code",
   "execution_count": null,
   "metadata": {},
   "outputs": [],
   "source": [
    "print(data_dict)"
   ]
  },
  {
   "cell_type": "code",
   "execution_count": null,
   "metadata": {},
   "outputs": [],
   "source": [
    "for folder in data_dict:\n",
    "    for filename in data_dict[folder]:\n",
    "        img = cv2.imread(folder + \"/\" + filename + \".tif\", cv2.IMREAD_UNCHANGED)\n",
    "        \n",
    "        # eliminate the invalid value in uint32 image\n",
    "        # img[img==-32768.0] = np.nan\n",
    "        # print(img.max(), img.min())\n",
    "        \n",
    "        img_uint8 = clip(img)\n",
    "\n",
    "        #visualize\n",
    "        # f, axis = plt.subplots(1, 2, figsize = (20,60))\n",
    "        # axis[0].imshow(img, cmap='gray')\n",
    "        # axis[0].set_title('ori Image')\n",
    "        # axis[1].imshow(img_uint8, cmap='gray')\n",
    "        # axis[1].set_title('8bit Image')\n",
    "        # plt.show()\n",
    "        # break\n",
    "\n",
    "        outname = outpath + '/' + folder + '/' + filename + '_uint8.tif'\n",
    "        cv2.imwrite(outname, img_uint8)\n",
    "        # os.remove(outname)"
   ]
  }
 ],
 "metadata": {
  "kernelspec": {
   "display_name": "buildingextraction",
   "language": "python",
   "name": "python3"
  },
  "language_info": {
   "codemirror_mode": {
    "name": "ipython",
    "version": 3
   },
   "file_extension": ".py",
   "mimetype": "text/x-python",
   "name": "python",
   "nbconvert_exporter": "python",
   "pygments_lexer": "ipython3",
   "version": "3.10.9"
  },
  "orig_nbformat": 4
 },
 "nbformat": 4,
 "nbformat_minor": 2
}
