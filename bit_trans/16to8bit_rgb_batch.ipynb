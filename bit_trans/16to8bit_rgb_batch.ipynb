{
 "cells": [
  {
   "cell_type": "code",
   "execution_count": 1,
   "metadata": {},
   "outputs": [],
   "source": [
    "import os\n",
    "import cv2\n",
    "import numpy as np"
   ]
  },
  {
   "cell_type": "code",
   "execution_count": 2,
   "metadata": {},
   "outputs": [],
   "source": [
    "def read_image_gray(filepath):\n",
    "    img = cv2.imread(filepath, cv2.IMREAD_UNCHANGED)\n",
    "    return img\n",
    "\n",
    "def conver_to_uint8(img, percentile = False):\n",
    "    if percentile:\n",
    "        min_per = 0.5 if img.dtype == 'int16' else 0.3\n",
    "        max_per = 100 - min_per\n",
    "        cut_min = np.nanpercentile(img.ravel(), min_per) #ravel()方法将数组维度拉成一维数组\n",
    "        cut_max = np.nanpercentile(img.ravel(), max_per)\n",
    "        img = np.clip(img, cut_min, cut_max) #去除最大最小值\n",
    "    else:\n",
    "        cut_min = img.min()\n",
    "        cut_max = img.max()\n",
    "    \n",
    "    img_uint8 = (255 * (img - cut_min) / (cut_max - cut_min)).astype(np.uint8)  # img.astype(np.uint8)\n",
    "    return img_uint8"
   ]
  },
  {
   "cell_type": "code",
   "execution_count": 3,
   "metadata": {},
   "outputs": [],
   "source": [
    "filepath = \"./left\"\n",
    "output_path = \"./left_8rgb\"\n",
    "\n",
    "data_list = []\n",
    "if os.path.isdir(filepath):\n",
    "    data_list = os.listdir(filepath)\n",
    "if not os.path.isdir(output_path):\n",
    "    os.mkdir(output_path)\n",
    "\n",
    "for filename in data_list:\n",
    "    fullname = os.path.join(filepath, filename)\n",
    "    outname = os.path.join(output_path, filename)\n",
    "    left_16 = read_image_gray(fullname)\n",
    "\n",
    "    left_8 = conver_to_uint8(left_16, percentile=True)\n",
    "    left_8 = cv2.cvtColor(left_8, cv2.COLOR_GRAY2BGR)\n",
    "    cv2.imwrite(outname, left_8)"
   ]
  },
  {
   "cell_type": "code",
   "execution_count": null,
   "metadata": {},
   "outputs": [],
   "source": []
  }
 ],
 "metadata": {
  "kernelspec": {
   "display_name": "buildingextraction",
   "language": "python",
   "name": "python3"
  },
  "language_info": {
   "codemirror_mode": {
    "name": "ipython",
    "version": 3
   },
   "file_extension": ".py",
   "mimetype": "text/x-python",
   "name": "python",
   "nbconvert_exporter": "python",
   "pygments_lexer": "ipython3",
   "version": "3.10.9"
  },
  "orig_nbformat": 4
 },
 "nbformat": 4,
 "nbformat_minor": 2
}
