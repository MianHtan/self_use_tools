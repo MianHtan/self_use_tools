{
 "cells": [
  {
   "cell_type": "code",
   "execution_count": 131,
   "metadata": {},
   "outputs": [],
   "source": [
    "import cv2\n",
    "import numpy as np\n",
    "import os\n",
    "import matplotlib.pyplot as plt\n",
    "%matplotlib inline"
   ]
  },
  {
   "cell_type": "code",
   "execution_count": 132,
   "metadata": {},
   "outputs": [],
   "source": [
    "source = \"./\"\n",
    "outpath = \"./\"\n",
    "\n",
    "data_dict = {}\n",
    "for folder in os.listdir(source):\n",
    "    if os.path.isdir(folder):\n",
    "        data_dict[folder] = []\n",
    "        for filefullname in os.listdir(folder):\n",
    "            filename = os.path.splitext(filefullname)\n",
    "            if filename[1] == \".tif\":\n",
    "                data_dict[folder].append(filename[0])"
   ]
  },
  {
   "cell_type": "code",
   "execution_count": 133,
   "metadata": {},
   "outputs": [],
   "source": [
    "def clip(img):\n",
    "    rows, cols = img.shape\n",
    "    compress_data = np.zeros((rows, cols),dtype=\"uint8\")\n",
    "\n",
    "    cutmin = np.nanpercentile(img[:, :], 0)\n",
    "    cutmax = np.nanpercentile(img[:, :], 99)\n",
    "\n",
    "    data_band = img\n",
    "    # 进行截断,用data_band = np.clip(data_band,cutmin,cutmax)也可以\n",
    "    data_band[data_band<cutmin] = cutmin\n",
    "    data_band[data_band>cutmax] = cutmax\n",
    "    print(cutmin, cutmax)\n",
    "    # 进行缩放\n",
    "    compress_data[:, :] = np.around( (data_band[:,:] - cutmin) *255/(cutmax - cutmin) )\n",
    "    return compress_data\n"
   ]
  },
  {
   "cell_type": "code",
   "execution_count": 134,
   "metadata": {},
   "outputs": [
    {
     "name": "stdout",
     "output_type": "stream",
     "text": [
      "{'BJ3_tile1': ['BJ3-tile1-L', 'BJ3-tile1-R'], 'BJ3_tile2': ['BJ3-tile2-L', 'BJ3-tile2-R'], 'BJ3_tile3': ['BJ3-tile3-L', 'BJ3-tile3-R'], 'GF7_tile1': ['GF7_tile1-L', 'GF7_tile1-R'], 'GF7_tile2': ['GF7_tile2-L', 'GF7_tile2-R'], 'GF7_tile3': ['GF7_tile3-L', 'GF7_tile3-R'], 'pleiades_tile1': ['pleiades_tile1-L', 'pleiades_tile1-R'], 'pleiades_tile2': ['pleiades_tile2-L', 'pleiades_tile2-R'], 'pleiades_tile3': ['pleiades_tile3-L', 'pleiades_tile3-R'], 'ZY3_tile1': ['ZY3_tile1-L', 'ZY3_tile1-R'], 'ZY3_tile2': ['ZY3_tile2-L', 'ZY3_tile2-R'], 'ZY3_tile3': ['ZY3_tile3-L', 'ZY3_tile3-R']}\n"
     ]
    }
   ],
   "source": [
    "print(data_dict)"
   ]
  },
  {
   "cell_type": "code",
   "execution_count": 137,
   "metadata": {},
   "outputs": [
    {
     "name": "stdout",
     "output_type": "stream",
     "text": [
      "nan nan\n",
      "0.3196859359741211 0.610557022690773\n",
      "nan nan\n",
      "0.323880136013031 0.635452196598053\n",
      "nan nan\n",
      "0.3706301748752594 0.5199005657434463\n",
      "nan nan\n",
      "0.3585169315338135 0.5482039958238596\n",
      "nan nan\n",
      "0.36522847414016724 0.5391312581300738\n",
      "nan nan\n",
      "0.37397199869155884 0.5554706501960753\n",
      "nan nan\n",
      "0.2142803966999054 0.6574914813041679\n",
      "nan nan\n",
      "0.2239573746919632 0.7536159276962281\n",
      "nan nan\n",
      "0.16043178737163544 0.9639829754829408\n",
      "nan nan\n",
      "0.15868337452411652 0.9591711759567261\n",
      "nan nan\n",
      "0.18024083971977234 1.0483492708206188\n",
      "nan nan\n",
      "0.19187600910663605 0.8459630328416815\n",
      "nan nan\n",
      "0.2734217345714569 0.6911949658393857\n",
      "nan nan\n",
      "0.2508535087108612 0.6630336046218872\n",
      "nan nan\n",
      "0.3033302426338196 0.6636845469474792\n",
      "nan nan\n",
      "0.24188363552093506 0.6243750488758086\n",
      "nan nan\n",
      "0.33305323123931885 0.6736370980739597\n",
      "nan nan\n",
      "0.29542431235313416 0.5909854245185853\n",
      "nan nan\n",
      "0.31169769167900085 0.786756697297096\n",
      "nan nan\n",
      "0.32201680541038513 0.9195669269561773\n",
      "nan nan\n",
      "0.25983861088752747 0.7030753493309021\n",
      "nan nan\n",
      "0.2909921407699585 0.8643207281827927\n",
      "nan nan\n",
      "0.30342942476272583 0.7143695956468581\n",
      "nan nan\n",
      "0.3177434802055359 0.9266003870964052\n"
     ]
    }
   ],
   "source": [
    "for folder in data_dict:\n",
    "    for filename in data_dict[folder]:\n",
    "        img = cv2.imread(folder + \"/\" + filename + \".tif\", cv2.IMREAD_UNCHANGED)\n",
    "        \n",
    "        # eliminate the invalid value in uint32 image\n",
    "        # img[img==-32768.0] = np.nan\n",
    "        # print(img.max(), img.min())\n",
    "        \n",
    "        img_uint8 = clip(img)\n",
    "        outname = outpath + '/' + folder + '/' + filename + '_uint8.tif'\n",
    "        cv2.imwrite(outname, img_uint8)\n",
    "        # os.remove(outname)"
   ]
  }
 ],
 "metadata": {
  "kernelspec": {
   "display_name": "buildingextraction",
   "language": "python",
   "name": "python3"
  },
  "language_info": {
   "codemirror_mode": {
    "name": "ipython",
    "version": 3
   },
   "file_extension": ".py",
   "mimetype": "text/x-python",
   "name": "python",
   "nbconvert_exporter": "python",
   "pygments_lexer": "ipython3",
   "version": "3.10.9"
  },
  "orig_nbformat": 4
 },
 "nbformat": 4,
 "nbformat_minor": 2
}
